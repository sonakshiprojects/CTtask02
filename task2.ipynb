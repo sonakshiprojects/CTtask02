{
 "cells": [
  {
   "cell_type": "markdown",
   "id": "799f703d",
   "metadata": {},
   "source": [
    "TASK 2 - PREDICTIVE ANALYSIS USING MACHINE LEARNING"
   ]
  }
 ],
 "metadata": {
  "language_info": {
   "name": "python"
  }
 },
 "nbformat": 4,
 "nbformat_minor": 5
}
